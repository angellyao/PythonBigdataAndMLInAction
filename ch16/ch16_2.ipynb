{
 "cells": [
  {
   "cell_type": "code",
   "execution_count": 5,
   "metadata": {},
   "outputs": [
    {
     "name": "stdout",
     "output_type": "stream",
     "text": [
      "['跟', '框架', '学', '代码', '设计', '，', '跟', '应用', '学', '功能', '设计']\n",
      "0.9980719940245937\n",
      "<zip object at 0x7f9b51c1ec08>\n",
      "['设计', '学', '代码']\n",
      "['跟框架学代码设计', '跟应用学功能设计']\n",
      "[{'跟': 1}, {'框': 1}, {'架': 1}, {'学': 1}, {'代': 1}, {'码': 1}, {'设': 1}, {'计': 1}, {'，': 1}, {'跟': 1}, {'应': 1}, {'用': 1}, {'学': 1}, {'功': 1}, {'能': 1}, {'设': 1}, {'计': 1}]\n",
      "{'跟': 1.8245492920510458, '框': 2.3978952727983707, '架': 2.3978952727983707, '学': 1.8245492920510458, '代': 2.3978952727983707, '码': 2.3978952727983707, '设': 1.8245492920510458, '计': 1.8245492920510458, '，': 2.3978952727983707, '应': 2.3978952727983707, '用': 2.3978952727983707, '功': 2.3978952727983707, '能': 2.3978952727983707}\n"
     ]
    }
   ],
   "source": [
    "# SnowNLP用法\n",
    "\n",
    "from snownlp import SnowNLP\n",
    "\n",
    "s = SnowNLP(\"跟框架学代码设计，跟应用学功能设计\")\n",
    "print(s.words) # 分词\n",
    "print(s.sentiments) # 消极or积极，结果在0-1之间\n",
    "print(s.tags) # 词性标注\n",
    "print(s.keywords(3)) #　关键词\n",
    "print(s.summary(3)) # 摘要\n",
    "print(s.tf) # tf\n",
    "print(s.idf) # idf"
   ]
  }
 ],
 "metadata": {
  "kernelspec": {
   "display_name": "Python 3",
   "language": "python",
   "name": "python3"
  },
  "language_info": {
   "codemirror_mode": {
    "name": "ipython",
    "version": 3
   },
   "file_extension": ".py",
   "mimetype": "text/x-python",
   "name": "python",
   "nbconvert_exporter": "python",
   "pygments_lexer": "ipython3",
   "version": "3.6.8"
  }
 },
 "nbformat": 4,
 "nbformat_minor": 2
}
