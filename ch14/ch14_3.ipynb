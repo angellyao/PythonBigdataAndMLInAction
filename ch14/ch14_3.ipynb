{
 "cells": [
  {
   "cell_type": "markdown",
   "metadata": {},
   "source": [
    "### 14.3.1 制作训练数据"
   ]
  },
  {
   "cell_type": "code",
   "execution_count": null,
   "metadata": {},
   "outputs": [],
   "source": [
    "from PIL import Image\n",
    "img = Image.open('data/labelme_json/banana_7_json/label.png')\n",
    "print(img.mode)\n",
    "\n",
    "#01   Img_8 = img.convert(\"P\")\n",
    "#02   Img_8.save('xxx.png')"
   ]
  },
  {
   "cell_type": "markdown",
   "metadata": {},
   "source": [
    "### 14.3.2 训练模型和预测"
   ]
  },
  {
   "cell_type": "code",
   "execution_count": null,
   "metadata": {},
   "outputs": [],
   "source": [
    "import os\n",
    "import sys\n",
    "sys.path.append('../../Mask_RCNN/') # 加入Mask_RCNN源码所在目录\n",
    "import cv2\n",
    "from mrcnn.config import Config\n",
    "from mrcnn import model as modellib,utils\n",
    "import numpy as np\n",
    "from PIL import Image\n",
    "import yaml\n",
    "import warnings\n",
    "warnings.filterwarnings('ignore')\n",
    "\n",
    "ROOT_DIR = os.getcwd() #当前目录\n",
    "MODEL_DIR = os.path.join(ROOT_DIR, \"models\")\n",
    "COCO_MODEL_PATH = os.path.join(ROOT_DIR, \"mask_rcnn_coco.h5\")\n",
    "\n",
    "# 从网上下载训练好的基础模型\n",
    "if not os.path.exists(COCO_MODEL_PATH):\n",
    "    utils.download_trained_weights(COCO_MODEL_PATH)\n",
    "\n",
    "# 配置项\n",
    "class ShapesConfig(Config):\n",
    "    NAME = \"shapes\" # 命名\n",
    "    GPU_COUNT = 1\n",
    "    IMAGES_PER_GPU = 1\n",
    "    NUM_CLASSES = 1 + 1  # 背景一类，香蕉一类，共两类\n",
    "    IMAGE_MIN_DIM = 320\n",
    "    IMAGE_MAX_DIM = 384\n",
    "    RPN_ANCHOR_SCALES = (8 * 6, 16 * 6, 32 * 6, 64 * 6, 128 * 6)\n",
    "    TRAIN_ROIS_PER_IMAGE = 100\n",
    "    STEPS_PER_EPOCH = 100\n",
    "    VALIDATION_STEPS = 50\n",
    "\n",
    "config = ShapesConfig()\n",
    "config.display() # 显示配置项"
   ]
  },
  {
   "cell_type": "markdown",
   "metadata": {},
   "source": [
    "#### 构建数据集"
   ]
  },
  {
   "cell_type": "code",
   "execution_count": null,
   "metadata": {},
   "outputs": [],
   "source": [
    "class FruitDataset(utils.Dataset):\n",
    "    def get_obj_index(self, image):\n",
    "        n = np.max(image)\n",
    "        return n\n",
    "\n",
    "    # 获取标签\n",
    "    def from_yaml_get_class(self, image_id):\n",
    "        info = self.image_info[image_id]\n",
    "        with open(info['yaml_path']) as f:\n",
    "            temp = yaml.load(f.read())\n",
    "            labels = temp['label_names']\n",
    "            del labels[0]\n",
    "        return labels\n",
    "\n",
    "    # 填充mask\n",
    "    def draw_mask(self, num_obj, mask, image,image_id):\n",
    "        info = self.image_info[image_id]\n",
    "        for index in range(num_obj):\n",
    "            for i in range(info['width']):\n",
    "                for j in range(info['height']):\n",
    "                    at_pixel = image.getpixel((i, j))\n",
    "                    if at_pixel == index + 1:\n",
    "                        mask[j, i, index] = 1\n",
    "        return mask\n",
    "\n",
    "    # 读入训练图片及其配置文件\n",
    "    def load_shapes(self, count, img_folder, mask_folder, imglist, dataset_root_path):\n",
    "        self.add_class(\"shapes\", 1, \"banana\") # 自定义标签 \n",
    "        print(count, len(imglist))\n",
    "        for i in range(count):\n",
    "            filestr = imglist[i].split(\".\")[0]\n",
    "            mask_path = mask_folder + \"/\" + filestr + \"_json.png\"\n",
    "            yaml_path = dataset_root_path + \"labelme_json/\" + filestr + \"_json/info.yaml\"\n",
    "            cv_img = cv2.imread(dataset_root_path + \"labelme_json/\" +\n",
    "                    filestr + \"_json/img.png\")\n",
    "            self.add_image(\"shapes\", image_id=i, path=img_folder + \"/\" + imglist[i],\n",
    "                    width=cv_img.shape[1], height=cv_img.shape[0], \n",
    "                    mask_path=mask_path, yaml_path=yaml_path)\n",
    "\n",
    "    # 读取标签和配置 \n",
    "    def load_mask(self, image_id):\n",
    "        info = self.image_info[image_id]\n",
    "        count = 1  # number of object\n",
    "        img = Image.open(info['mask_path'])\n",
    "        num_obj = self.get_obj_index(img)\n",
    "        mask = np.zeros([info['height'], info['width'], num_obj], dtype=np.uint8)\n",
    "        mask = self.draw_mask(num_obj, mask, img,image_id)\n",
    "        occlusion = np.logical_not(mask[:, :, -1]).astype(np.uint8)\n",
    "        for i in range(count - 2, -1, -1):\n",
    "            mask[:, :, i] = mask[:, :, i] * occlusion\n",
    "            occlusion = np.logical_and(occlusion, np.logical_not(mask[:, :, i]))\n",
    "        labels = []\n",
    "        labels = self.from_yaml_get_class(image_id)\n",
    "        labels_form = []\n",
    "        for i in range(len(labels)):\n",
    "            if labels[i].find(\"banana\") != -1: # 自定义标签\n",
    "                labels_form.append(\"banana\")\n",
    "        class_ids = np.array([self.class_names.index(s) for s in labels_form])\n",
    "        return mask, class_ids.astype(np.int32)"
   ]
  },
  {
   "cell_type": "markdown",
   "metadata": {},
   "source": [
    "#### 模型训练"
   ]
  },
  {
   "cell_type": "code",
   "execution_count": null,
   "metadata": {},
   "outputs": [],
   "source": [
    "#基础设置\n",
    "dataset_root_path=\"data/\" # 数据目录下只有一个图片权作为demo使用，训练时需要加入更多文件\n",
    "img_folder = dataset_root_path + \"pic\" # 基本图片目录\n",
    "mask_folder = dataset_root_path + \"cv2_mask\" # mask图片目录\n",
    "imglist = os.listdir(img_folder)\n",
    "\n",
    "# 构造训练集\n",
    "dataset_train = FruitDataset()\n",
    "dataset_train.load_shapes(len(imglist), img_folder, mask_folder, imglist, dataset_root_path)\n",
    "dataset_train.prepare()\n",
    "\n",
    "# 构造验证集\n",
    "dataset_val = FruitDataset()\n",
    "dataset_val.load_shapes(7, img_folder, mask_folder, imglist, dataset_root_path)\n",
    "dataset_val.prepare()\n",
    "\n",
    "# 建立模型\n",
    "model = modellib.MaskRCNN(mode=\"training\", config=config,\n",
    "                          model_dir=MODEL_DIR)\n",
    "\n",
    "# 定义模式\n",
    "model.load_weights(COCO_MODEL_PATH, by_name=True,\n",
    "                       exclude=[\"mrcnn_class_logits\", \"mrcnn_bbox_fc\",\n",
    "                                \"mrcnn_bbox\", \"mrcnn_mask\"])\n",
    "\n",
    "# 模型训练\n",
    "model.train(dataset_train, dataset_val,\n",
    "            learning_rate=config.LEARNING_RATE / 10,\n",
    "            epochs=30,\n",
    "            layers=\"all\")"
   ]
  },
  {
   "cell_type": "markdown",
   "metadata": {},
   "source": [
    "### 用模型分割图片"
   ]
  },
  {
   "cell_type": "code",
   "execution_count": null,
   "metadata": {},
   "outputs": [],
   "source": [
    "import os\n",
    "import sys\n",
    "sys.path.append(os.path.dirname(os.getcwd()))\n",
    "import skimage.io\n",
    "from mrcnn.config import Config\n",
    "import mrcnn.model as modellib\n",
    "from mrcnn import visualize\n",
    "%matplotlib inline\n",
    "\n",
    "ROOT_DIR = os.getcwd()\n",
    "sys.path.append(ROOT_DIR)\n",
    "MODEL_DIR = os.path.join(ROOT_DIR, \"models\")\n",
    "\n",
    "# 配置，同train\n",
    "class ShapesConfig(Config):\n",
    "    NAME = \"shapes\"\n",
    "    GPU_COUNT = 1\n",
    "    IMAGES_PER_GPU = 1\n",
    "    NUM_CLASSES = 1 + 1\n",
    "    IMAGE_MIN_DIM = 320\n",
    "    IMAGE_MAX_DIM = 384\n",
    "    RPN_ANCHOR_SCALES = (8 * 6, 16 * 6, 32 * 6, 64 * 6, 128 * 6)\n",
    "    TRAIN_ROIS_PER_IMAGE =100\n",
    "    STEPS_PER_EPOCH = 100\n",
    "    VALIDATION_STEPS = 50\n",
    "\n",
    "config = ShapesConfig()\n",
    "model = modellib.MaskRCNN(mode=\"inference\", model_dir=MODEL_DIR, config=config)\n",
    "model.load_weights('models/shapes20190620T1915/mask_rcnn_shapes_0029.h5', \n",
    "             by_name=True) # 注意换成读者生成模型的路径\n",
    "\n",
    "class_names = ['BG', 'banana']\n",
    "image = skimage.io.imread('banana.jpg') # 注意配换成需要识别的图片路径\n",
    "\n",
    "results = model.detect([image], verbose=1)\n",
    "r = results[0]\n",
    "# 画图\n",
    "visualize.display_instances(image, r['rois'], r['masks'], r['class_ids'], \n",
    "                            class_names, r['scores'])"
   ]
  }
 ],
 "metadata": {
  "kernelspec": {
   "display_name": "Python 3 (ipykernel)",
   "language": "python",
   "name": "python3"
  },
  "language_info": {
   "codemirror_mode": {
    "name": "ipython",
    "version": 3
   },
   "file_extension": ".py",
   "mimetype": "text/x-python",
   "name": "python",
   "nbconvert_exporter": "python",
   "pygments_lexer": "ipython3",
   "version": "3.9.7"
  }
 },
 "nbformat": 4,
 "nbformat_minor": 2
}
