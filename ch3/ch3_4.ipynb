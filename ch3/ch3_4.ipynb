{
 "cells": [
  {
   "cell_type": "code",
   "execution_count": 1,
   "metadata": {},
   "outputs": [],
   "source": [
    "# -*- coding:utf-8 -*-\n",
    "\n",
    "import pandas as pd"
   ]
  },
  {
   "cell_type": "markdown",
   "metadata": {},
   "source": [
    "### 3.4.1  Python日期时间处理"
   ]
  },
  {
   "cell_type": "code",
   "execution_count": 2,
   "metadata": {},
   "outputs": [
    {
     "name": "stdout",
     "output_type": "stream",
     "text": [
      "2019-06-27 11:37:32.078541\n",
      "2019 6 27 11 37 32\n",
      "2019-03-27 00:00:00\n"
     ]
    }
   ],
   "source": [
    "# 时间点\n",
    "from datetime import datetime\n",
    "d1 = datetime.now() # 获取当前时间\n",
    "print(d1)\n",
    "print(d1.year, d1.month, d1.day, d1.hour, d1.minute, d1.second)\n",
    "d2 = datetime(2019, 3, 27) # 通过指定日期构造datetime\n",
    "print(d2)"
   ]
  },
  {
   "cell_type": "code",
   "execution_count": 3,
   "metadata": {},
   "outputs": [
    {
     "name": "stdout",
     "output_type": "stream",
     "text": [
      "<class 'datetime.timedelta'>\n",
      "-93 days, 12:22:27.921459\n",
      "2019-06-30 11:37:32.078541\n"
     ]
    }
   ],
   "source": [
    "# 时间段\n",
    "from datetime import timedelta\n",
    "delta = d2-d1 # 通过时间日期相减获取\n",
    "print(type(delta))\n",
    "print(delta)\n",
    "delta = timedelta(days=3) # 通过指定时定差获取\n",
    "print(d1+delta)# 利用时间段计算新日期时间"
   ]
  },
  {
   "cell_type": "code",
   "execution_count": 4,
   "metadata": {},
   "outputs": [
    {
     "name": "stdout",
     "output_type": "stream",
     "text": [
      "1561606653.1568227\n",
      "1561606653.0\n",
      "1553616000.0\n",
      "2019-06-27 11:37:33\n",
      "2019-06-27 11:37:33\n"
     ]
    }
   ],
   "source": [
    "# 时间戳\n",
    "import time\n",
    "print(time.time())\n",
    "\n",
    "d = datetime.now()\n",
    "t = time.mktime(d.timetuple()) # 从datetime格式转换\n",
    "print(t)\n",
    "print(time.mktime(time.strptime(\"2019-03-27\", \"%Y-%m-%d\"))) # 从字符串转换\n",
    "print(datetime.fromtimestamp(t)) \n",
    "print(time.strftime(\"%Y-%m-%d %H:%M:%S\", time.localtime(t)))"
   ]
  },
  {
   "cell_type": "code",
   "execution_count": 5,
   "metadata": {},
   "outputs": [
    {
     "name": "stdout",
     "output_type": "stream",
     "text": [
      "2019-03-27 00:00:00\n",
      "2019-03-27 00:00:00\n",
      "2019-03-27 00:00:00\n",
      "2019/03/27 00:00:00\n"
     ]
    }
   ],
   "source": [
    "# 时间类型转换\n",
    "d = datetime.strptime('2019-03-27', '%Y-%m-%d')\n",
    "print(d)\n",
    "\n",
    "from dateutil.parser import parse\n",
    "d = parse('2019/03/27')\n",
    "print(d)\n",
    "print(str(d))\n",
    "\n",
    "print(d.strftime(\"%Y/%m/%d %H:%M:%S\"))"
   ]
  },
  {
   "cell_type": "markdown",
   "metadata": {},
   "source": [
    "### 3.4.2  Pandas日期时间处理"
   ]
  },
  {
   "cell_type": "code",
   "execution_count": 6,
   "metadata": {},
   "outputs": [
    {
     "name": "stdout",
     "output_type": "stream",
     "text": [
      "<class 'pandas._libs.tslibs.timestamps.Timestamp'> 2019-03-01 00:00:00\n",
      "<class 'pandas._libs.tslibs.timestamps.Timestamp'> 2019-06-27 11:37:34.960445\n",
      "<class 'pandas._libs.tslibs.timedeltas.Timedelta'> 118 days 11:37:34.962033 118 41854\n",
      "2019-07-24 11:37:34.962033\n",
      "2019-06-27 11:00 2019-06-27 11:00:00 2019-06-27 11:59:59.999999999\n",
      "           d\n",
      "0 2019-03-01\n",
      "1 2019-03-02\n",
      "2 2019-03-03\n"
     ]
    }
   ],
   "source": [
    "# 时间点TimeStamp\n",
    "\n",
    "t = pd.to_datetime('2019-03-01 00:00:00') # 从字符串转换\n",
    "print(type(t), t)\n",
    "t = pd.to_datetime(datetime.now()) # 从datetime格式转换\n",
    "print(type(t), t)\n",
    "\n",
    "# 时间间隔\n",
    "t1 = pd.to_datetime('2019-03-01 00:00:00')\n",
    "t2 = pd.to_datetime(datetime.now())\n",
    "delta = t2-t1 # 通过TimeStamp相减获取\n",
    "print(type(delta), delta, delta.days, delta.seconds)\n",
    "\n",
    "delta = pd.Timedelta(days=27) # 构造时间间隔为27天\n",
    "print(t2 + delta)\n",
    "\n",
    "# 时间段Period\n",
    "t = pd.to_datetime(datetime.now())\n",
    "p = pd.Period(t, freq='H')\n",
    "print(p, p.start_time, p.end_time) # 显示时间段起止时间\n",
    "\n",
    "# 批量转换\n",
    "arr = ['2019-03-01','2019-03-02','2019-03-03']\n",
    "df = pd.DataFrame({'d':arr})\n",
    "df['d'] = pd.to_datetime(df['d'])\n",
    "print(df)"
   ]
  },
  {
   "cell_type": "markdown",
   "metadata": {},
   "source": [
    "### 3.4.3  时间序列操作"
   ]
  },
  {
   "cell_type": "code",
   "execution_count": 7,
   "metadata": {},
   "outputs": [
    {
     "name": "stdout",
     "output_type": "stream",
     "text": [
      "DatetimeIndex(['2019-03-01', '2019-03-02', '2019-03-03'], dtype='datetime64[ns]', name='d', freq=None)\n",
      "            val\n",
      "date           \n",
      "2017-12-30    5\n",
      "2017-12-31    6\n",
      "2018-01-01    0\n",
      "<class 'pandas.core.indexes.period.PeriodIndex'>\n",
      "372\n",
      "         val\n",
      "date        \n",
      "2017-12    5\n",
      "2017-12    6\n",
      "2018-01    0\n",
      "2017-12-01 00:00:00 2017-12-31 23:59:59.999999999\n",
      "2017-12-01 00:00:00 2017-12-31 23:59:59.999999999\n",
      "True False\n",
      "            val\n",
      "date           \n",
      "2017-12-01    5\n",
      "2017-12-01    6\n",
      "2018-01-01    0\n",
      "<class 'pandas.core.indexes.datetimes.DatetimeIndex'>\n"
     ]
    }
   ],
   "source": [
    "# 时间日期类型索引\n",
    "df.index = pd.to_datetime(df['d']) # 本例中使用了上例中构造的df[‘d’]\n",
    "print(df.index)\n",
    "\n",
    "df = pd.DataFrame()\n",
    "df['date'] = pd.date_range(start='2017-12-30',end='2019-01-05',freq='d') # 创建时间数据\n",
    "df['val'] = df['date'].apply(lambda x: x.weekday()) # 计算该日是星期几\n",
    "df.set_index('date', inplace = True) # 设置时间索引\n",
    "print(df.head(3)) # 显示前三条\n",
    "\n",
    "# 时间段类型索引\n",
    "df_period = df.to_period(freq='M') # 按月创建时间段\n",
    "print(type(df_period.index)) # 查看类型\n",
    "print(len(df_period)) # 查看记录个数，与原记录个数一致\n",
    "print(df_period.head(3))\n",
    "\n",
    "print(df_period.index[0].start_time, df_period.index[0].end_time)\n",
    "print(df_period.index[1].start_time, df_period.index[1].end_time)\n",
    "print(df.index.is_unique, df_period.index.is_unique)\n",
    "\n",
    "df_dt = df_period.to_timestamp()\n",
    "print(df_dt.head(3))\n",
    "print(type(df_dt.index))"
   ]
  },
  {
   "cell_type": "code",
   "execution_count": 8,
   "metadata": {},
   "outputs": [
    {
     "name": "stdout",
     "output_type": "stream",
     "text": [
      "            val\n",
      "date           \n",
      "2019-01-01    1\n",
      "2019-01-02    2\n",
      "2019-01-03    3\n",
      "2019-01-04    4\n",
      "2019-01-05    5\n",
      "            val\n",
      "date           \n",
      "2019-01-01    1\n",
      "2019-01-02    2\n",
      "2019-01-03    3\n",
      "2019-01-04    4\n",
      "2019-01-05    5\n",
      "            val\n",
      "date           \n",
      "2018-01-01    0\n",
      "2018-01-02    1\n",
      "2018-01-03    2\n",
      "2018-01-04    3\n",
      "2018-01-05    4\n",
      "            val\n",
      "date           \n",
      "2018-12-31    0\n",
      "2019-01-01    1\n",
      "2019-01-02    2\n",
      "2019-01-03    3\n",
      "2019-01-04    4\n",
      "            val\n",
      "date           \n",
      "2017-12-31   11\n",
      "2018-01-07   21\n",
      "2018-01-14   21\n",
      "            val               \n",
      "           open high low close\n",
      "date                          \n",
      "2017-12-31    5    6   5     6\n",
      "2018-01-31    0    6   0     2\n",
      "2018-02-28    3    6   0     2\n",
      "         val\n",
      "date        \n",
      "2017-12   11\n",
      "2018-01   87\n",
      "2018-02   84\n",
      "31\n",
      "                 val\n",
      "2019-03-01  8.000000\n",
      "2019-03-02  7.928571\n",
      "2019-03-03  7.857143\n",
      "            val\n",
      "2019-03-01  8.0\n",
      "2019-03-02  NaN\n",
      "2019-03-03  NaN\n"
     ]
    }
   ],
   "source": [
    "# 筛选和切分\n",
    "print(df['2019'])  # 筛选2019全年数据\n",
    "print(df['2019-01'])  #  筛选2019年一月全月数据\n",
    "print(df['2018':'2019'].head()) # 筛选2018年初到2019年底的所有数据\n",
    "print(df['2018-12-31':].head()) # 筛选2018-12-31及之后的数据\n",
    "\n",
    "# 重采样\n",
    "tmp = df.resample('w').sum() # 使用叠加方式按周重采样\n",
    "print(tmp.head(3))\n",
    "\n",
    "tmp = df.resample('M').ohlc() # 使用用ohlc方式按月降采样\n",
    "print(tmp.head(3))\n",
    "\n",
    "tmp = df.resample('M').sum().to_period('M') # 按月降采样，同时将时间变为时间段\n",
    "print(tmp.head(3))\n",
    "\n",
    "df1 = pd.DataFrame({'val':[8,7,6]})\n",
    "df1.index = pd.to_datetime(['2019-03-01','2019-03-15','2019-03-31']) # 仅含三条数据\n",
    "df2 = df1.resample('D').interpolate() # 用插值方式升采样\n",
    "print(len(df2))\n",
    "print(df2.head(3))\n",
    "\n",
    "df3 = df1.asfreq('D')\n",
    "print(df3.head(3))"
   ]
  },
  {
   "cell_type": "code",
   "execution_count": 9,
   "metadata": {},
   "outputs": [
    {
     "name": "stdout",
     "output_type": "stream",
     "text": [
      "            val  prev\n",
      "date                 \n",
      "2017-12-30    5   NaN\n",
      "2017-12-31    6   5.0\n",
      "2018-01-01    0   6.0\n",
      "            val  prev        sw\n",
      "date                           \n",
      "2017-12-30    5   NaN       NaN\n",
      "2017-12-31    6   5.0       NaN\n",
      "2018-01-01    0   6.0  3.666667\n"
     ]
    }
   ],
   "source": [
    "# 偏移\n",
    "df['prev'] = df['val'].shift() # 取前一条数据的val值作为当前记录中prev字段的值\n",
    "print(df.head(3))\n",
    "\n",
    "# 计算滑动窗口\n",
    "df['sw'] = df['val'].rolling(window=3).mean() # 计算窗口中数据的均值\n",
    "print(df.head(3))\n",
    "\n",
    "df['emw_3'] = df['val'].ewm(span=3).mean()\n",
    "df['emw_7'] = df['val'].ewm(span=7).mean()\n",
    "df['rolling'] = df['val'].rolling(7).mean()"
   ]
  },
  {
   "cell_type": "code",
   "execution_count": 10,
   "metadata": {},
   "outputs": [
    {
     "name": "stdout",
     "output_type": "stream",
     "text": [
      "['Africa/Abidjan', 'Africa/Accra', 'Africa/Addis_Ababa']\n",
      "2019-06-27 11:37:38.241256\n",
      "2019-06-27 11:37:38.241256+00:00\n",
      "2019-06-27 19:37:38.241256+08:00\n",
      "DatetimeIndex(['2018-12-31', '2019-01-01'], dtype='datetime64[ns]', name='date', freq=None)\n",
      "['2018-12-31T00:00:00.000000000' '2019-01-01T00:00:00.000000000'] DatetimeIndex(['2018-12-31 00:00:00+00:00', '2019-01-01 00:00:00+00:00'], dtype='datetime64[ns, UTC]', name='date', freq=None)\n",
      "['2018-12-31T00:00:00.000000000' '2019-01-01T00:00:00.000000000']\n",
      "DatetimeIndex(['2018-12-31 08:00:00+08:00', '2019-01-01 08:00:00+08:00'], dtype='datetime64[ns, Asia/Shanghai]', name='date', freq=None)\n"
     ]
    }
   ],
   "source": [
    "# 时区转换\n",
    "\n",
    "import pytz\n",
    "print(pytz.common_timezones[:3])\n",
    "\n",
    "import datetime\n",
    "t = datetime.datetime.now()\n",
    "print(t)\n",
    "\n",
    "utc_dt = pytz.utc.localize(t)\n",
    "print(utc_dt)\n",
    "\n",
    "from pytz import timezone\n",
    "tz = timezone('Asia/Shanghai') # 将时区设为上海\n",
    "print(utc_dt.astimezone(tz)) # 转换时区\n",
    "\n",
    "df = pd.DataFrame()\n",
    "df['date'] = pd.date_range(start='2018-12-31',end='2019-01-01',freq='d')\n",
    "df.set_index('date', inplace=True) # 设置时间索引\n",
    "print(df.index)\n",
    "\n",
    "df.index = df.index.tz_localize('UTC')\n",
    "print(df.index.values, df.index)\n",
    "\n",
    "df.index = df.index.tz_convert('Asia/Shanghai')\n",
    "print(df.index.values)\n",
    "print(df.index)"
   ]
  },
  {
   "cell_type": "markdown",
   "metadata": {},
   "source": [
    "### 3.4.4  数据重排"
   ]
  },
  {
   "cell_type": "code",
   "execution_count": 11,
   "metadata": {},
   "outputs": [
    {
     "name": "stdout",
     "output_type": "stream",
     "text": [
      "    a  b\n",
      "l1  1  3\n",
      "l2  2  4\n",
      "   l1  l2\n",
      "a   1   2\n",
      "b   3   4\n",
      "l1  a    1\n",
      "    b    3\n",
      "l2  a    2\n",
      "    b    4\n",
      "dtype: int64\n",
      "    a  b\n",
      "l1  1  3\n",
      "l2  2  4\n",
      "   l1  l2\n",
      "a   1   2\n",
      "b   3   4\n",
      "   时间  学科  分数\n",
      "0  期中  语文  89\n",
      "1  期末  语文  75\n",
      "2  期中  数学  90\n",
      "3  期末  数学  95 学科  数学  语文\n",
      "时间        \n",
      "期中  90  89\n",
      "期末  95  75\n"
     ]
    }
   ],
   "source": [
    "# 数据表转置\n",
    "df = pd.DataFrame({\"a\":[1,2],\"b\":[3,4]}, index=['l1','l2'])\n",
    "print(df)\n",
    "print(df.T)\n",
    "\n",
    "# 行转列和列转行\n",
    "df1 = df.stack() # 列转行\n",
    "print(df1)\n",
    "\n",
    "print(df1.unstack()) # 将内层行索引转为列索引\n",
    "print(df1.unstack(level=0)) # 将外层行索引转为列索引\n",
    "\n",
    "# 透视转换\n",
    "df = pd.DataFrame({\"时间\":['期中','期末','期中','期末'],\n",
    "                   \"学科\":['语文','语文','数学','数学'],\n",
    "                   \"分数\":[89,75,90,95]})\n",
    "df1 = df.pivot(index='时间', columns='学科', values='分数')\n",
    "print(df, df1)"
   ]
  }
 ],
 "metadata": {
  "kernelspec": {
   "display_name": "Python 3",
   "language": "python",
   "name": "python3"
  },
  "language_info": {
   "codemirror_mode": {
    "name": "ipython",
    "version": 3
   },
   "file_extension": ".py",
   "mimetype": "text/x-python",
   "name": "python",
   "nbconvert_exporter": "python",
   "pygments_lexer": "ipython3",
   "version": "3.6.8"
  }
 },
 "nbformat": 4,
 "nbformat_minor": 2
}
