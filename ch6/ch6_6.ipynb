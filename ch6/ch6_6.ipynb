{
 "cells": [
  {
   "cell_type": "code",
   "execution_count": 1,
   "metadata": {},
   "outputs": [],
   "source": [
    "# -*- coding:utf-8 -*- #\n",
    "\n",
    "import pandas as pd"
   ]
  },
  {
   "cell_type": "markdown",
   "metadata": {},
   "source": [
    "### 6.6.1  数值型特征"
   ]
  },
  {
   "cell_type": "code",
   "execution_count": 2,
   "metadata": {},
   "outputs": [
    {
     "name": "stdout",
     "output_type": "stream",
     "text": [
      "   height  weight        bmi\n",
      "0     1.6      60  23.437500\n",
      "1     1.7      70  24.221453\n",
      "2     1.8      90  27.777778\n",
      "   height  weight        bmi  overweight\n",
      "0     1.6      60  23.437500       False\n",
      "1     1.7      70  24.221453       False\n",
      "2     1.8      90  27.777778        True\n",
      "   height  weight        bmi overweight\n",
      "0     1.6      60  23.437500         No\n",
      "1     1.7      70  24.221453         No\n",
      "2     1.8      90  27.777778        Yes\n"
     ]
    }
   ],
   "source": [
    "dic = {'height': [1.6, 1.7, 1.8],\n",
    "      'weight': [60, 70, 90]}\n",
    "data = pd.DataFrame(dic)\n",
    "data['bmi'] = data['weight'] / (data['height'] **2)\n",
    "print(data)\n",
    "data['overweight'] = data['bmi'] > 25\n",
    "print(data)\n",
    "data['overweight'] = data['overweight'].map({True:'Yes', False:'No'})\n",
    "print(data)"
   ]
  },
  {
   "cell_type": "markdown",
   "metadata": {},
   "source": [
    "### 6.6.2  类型特征"
   ]
  },
  {
   "cell_type": "code",
   "execution_count": 3,
   "metadata": {},
   "outputs": [
    {
     "name": "stdout",
     "output_type": "stream",
     "text": [
      "(array([0, 1, 1]), Index(['第一组', '第二组'], dtype='object'))\n",
      "  string  num  组别_第一组  组别_第二组\n",
      "0    第一组    0       1       0\n",
      "1    第二组    1       0       1\n",
      "2    第二组    1       0       1\n"
     ]
    }
   ],
   "source": [
    "import pandas as pd\n",
    "dic = {'string': ['第一组', '第二组', '第二组']}\n",
    "data = pd.DataFrame(dic)\n",
    "print(pd.factorize(data.string)) # 转换成数值型编码\n",
    "\n",
    "data['num'] = pd.factorize(data['string'])[0]\n",
    "df = pd.get_dummies(data['string'], prefix='组别')  # 转换成onehot类型编码\n",
    "new_data = pd.concat([data, df], axis=1)\n",
    "print(new_data)"
   ]
  },
  {
   "cell_type": "markdown",
   "metadata": {},
   "source": [
    "### 6.6.3  关键字特征"
   ]
  },
  {
   "cell_type": "code",
   "execution_count": 4,
   "metadata": {},
   "outputs": [],
   "source": [
    "import pandas as pd\n",
    "import numpy as np\n",
    "from scipy import stats\n",
    "import jieba\n",
    "import re\n",
    "\n",
    "def do_split(test_text):\n",
    "    pattern = r',|\\.|/|;|\\'|`|\\[|\\]|<|>|\\?|:|\"|\\{|\\}|\\~|!|？|@|#|\\$|%|\\^|&|\\(|\\)|-|=|\\_|\\+|，|。|、|；|‘|’|【|】03   |·|！| |…|（|）' \n",
    "    return re.split(pattern, test_text) \n",
    "\n"
   ]
  },
  {
   "cell_type": "code",
   "execution_count": 5,
   "metadata": {},
   "outputs": [
    {
     "name": "stderr",
     "output_type": "stream",
     "text": [
      "Building prefix dict from the default dictionary ...\n",
      "Loading model from cache /tmp/jieba.cache\n",
      "Loading model cost 0.465 seconds.\n",
      "Prefix dict has been built succesfully.\n",
      "/usr/local/lib/python3.6/dist-packages/ipykernel_launcher.py:22: UserWarning: This pattern has match groups. To actually get the groups, use str.extract.\n",
      "/usr/local/lib/python3.6/dist-packages/numpy/core/fromnumeric.py:3118: RuntimeWarning: Mean of empty slice.\n",
      "  out=out, **kwargs)\n",
      "/usr/local/lib/python3.6/dist-packages/numpy/core/_methods.py:85: RuntimeWarning: invalid value encountered in double_scalars\n",
      "  ret = ret.dtype.type(ret / rcount)\n"
     ]
    },
    {
     "name": "stdout",
     "output_type": "stream",
     "text": [
      "['挣钱是一种能力', '抢红包拼的是技术', '一起发出的现金红包', '￣', '3￣', '╭http', 't', 'cn', '红包', '挣钱', '能力', '抢红包', '抢到', '一起', '发出', '现金', '幸福', '粉丝', 'http', '这些', '喜欢', '分享自', '羊年未到', '好运先来', '你也来试试手气', '就是', '好运', '先来', '来试', '试试', '试手', '手气', '东西', '软件', '下载', '3', 'IT', '#IT#', '新闻', '支付宝钱包', '羊年好运就此开启', '你也来试试手气吧', '╮', '支付', '支付宝', '钱包', '就此', '开启', '来自', '网易云音乐', '网易', '音乐', '已经', '一个', '16', '发表', '需要', '他们', '工程', '工程师', '开发', '不是', '代码', '理解', '进行', '创业', '快的打车', '打车', '感觉', '今天', '评论', '查看', '成为', '活动', '幸运', '一些', '我正在', '为', '正在', '支持', '小时', 'in', '手机', '自己', '2015', '信息', '我抢到了', '发出的现金红包', '阅读', '使用', '单词', '管理', '设计', '30', '项目', '15', '工具', '免费', '提供', '快来', '未来', 'on', '来', '博客', '赞', '还有', '向', 'and', '简单', '环境', 'from', '获得', 'for', '详情', 'at', 'Y', '小伙伴们', '——', '快来试试手气', '23', '形', '51', '帮助', '01', '的现金红包', '/', '我在', 'T', '「', '转', '」', 'X', 'be']\n"
     ]
    }
   ],
   "source": [
    "def get_keywords(data, feat):\n",
    "    ret = []\n",
    "    data[feat] = data[feat].apply(lambda x: x.strip())\n",
    "    for i in data[feat].unique():\n",
    "        # 将短句作为关键字\n",
    "        if len(i) <= 50 and i not in ret:\n",
    "            ret.append(i)\n",
    "        # 将子句作为关键字\n",
    "        for sentence in do_split(i):\n",
    "            if len(sentence) <= 50 and sentence not in ret:\n",
    "                ret.append(sentence)\n",
    "        # 将词作为关键字\n",
    "        for word in jieba.lcut(i, cut_all=True):\n",
    "            if len(word) > 1 and word not in ret:\n",
    "                ret.append(word)\n",
    "    return ret\n",
    "\n",
    "def check_freq(data, feat, keywords, limit):\n",
    "    ret = []\n",
    "    for key in keywords:\n",
    "        try:\n",
    "            if len(data[data[feat].str.contains(key)]) > limit:\n",
    "                ret.append(key)\n",
    "        except:\n",
    "            pass\n",
    "    return ret\n",
    "\n",
    "def do_test(data, feat, key, y, debug=False):\n",
    "    arr1 = data[data[feat].str.contains(key) == True][y]\n",
    "    arr2 = data[data[feat].str.contains(key) == False][y]\n",
    "    ret1 = stats.ttest_ind(arr1, arr2, equal_var = False)\n",
    "    ret2 = stats.levene(arr1, arr2)\n",
    "    if ret1.pvalue < 0.05 or ret2.pvalue < 0.05:\n",
    "        return True    \n",
    "    return False\n",
    "\n",
    "def check(data, feat, y):\n",
    "    ret = []\n",
    "    keywords = get_keywords(data, feat)\n",
    "    arr = check_freq(data, feat, keywords, 5)\n",
    "    for word in arr:\n",
    "        if do_test(data, feat, word, y):\n",
    "            ret.append(word)\n",
    "    return ret\n",
    "\n",
    "# 读取数据文件的前500条数据，其中第6个字段是微博内容，第5个字段为点赞次数。\n",
    "data = pd.read_csv('weibo_train_data.txt', sep='\\t', \n",
    "                   header=None, nrows=500)\n",
    "print(check(data, 6, 5))"
   ]
  }
 ],
 "metadata": {
  "kernelspec": {
   "display_name": "Python 3",
   "language": "python",
   "name": "python3"
  },
  "language_info": {
   "codemirror_mode": {
    "name": "ipython",
    "version": 3
   },
   "file_extension": ".py",
   "mimetype": "text/x-python",
   "name": "python",
   "nbconvert_exporter": "python",
   "pygments_lexer": "ipython3",
   "version": "3.6.8"
  }
 },
 "nbformat": 4,
 "nbformat_minor": 2
}
